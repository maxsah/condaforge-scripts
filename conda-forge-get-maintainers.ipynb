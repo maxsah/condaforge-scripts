{
 "cells": [
  {
   "cell_type": "code",
   "execution_count": null,
   "metadata": {},
   "outputs": [],
   "source": [
    "import requests\n",
    "from bs4 import BeautifulSoup"
   ]
  },
  {
   "cell_type": "code",
   "execution_count": null,
   "metadata": {},
   "outputs": [],
   "source": [
    "# get webpage with all packages\n",
    "r = requests.get('https://conda-forge.org/feedstocks/')\n",
    "\n",
    "# check the status code returned\n",
    "r.status_code"
   ]
  },
  {
   "cell_type": "code",
   "execution_count": null,
   "metadata": {},
   "outputs": [],
   "source": [
    "# parse the response to get package names\n",
    "soup = BeautifulSoup(r.content, \"lxml\")\n",
    "table = soup.find(\"section\", {\"id\": \"feedstocks\"})\n",
    "links = [a['href'] for a in table.findAll('a')]\n",
    "\n",
    "# inspect the links\n",
    "links[:3]"
   ]
  },
  {
   "cell_type": "code",
   "execution_count": null,
   "metadata": {},
   "outputs": [],
   "source": [
    "# grab just the package names from the links\n",
    "packages = [line.split('/')[-1].replace('-feedstock', '') for line in links]\n",
    "\n",
    "# inspect the packages\n",
    "packages[:3]"
   ]
  },
  {
   "cell_type": "code",
   "execution_count": null,
   "metadata": {},
   "outputs": [],
   "source": [
    "# iterate over packages and get the grab meta.yaml\n",
    "meta = {}\n",
    "for pkg in packages:\n",
    "    meta[pkg] = {}\n",
    "    url = 'https://raw.githubusercontent.com/conda-forge/{}-feedstock/master/recipe/meta.yaml'.format(pkg)\n",
    "    r = requests.get(url)\n",
    "    if r.status_code == 200:\n",
    "        meta[pkg]['response'] = r.text\n",
    "    else:\n",
    "        print(\"Error with {}\".format(pkg))"
   ]
  },
  {
   "cell_type": "code",
   "execution_count": null,
   "metadata": {
    "scrolled": true
   },
   "outputs": [],
   "source": [
    "meta"
   ]
  },
  {
   "cell_type": "code",
   "execution_count": null,
   "metadata": {},
   "outputs": [],
   "source": [
    "# find where the maintainers line starts\n",
    "simplelist=[]\n",
    "for pkg in meta:\n",
    "\n",
    "    if meta[pkg] == {}:\n",
    "        continue\n",
    "    \n",
    "    else:\n",
    "        text = meta[pkg]['response'].split('\\n')\n",
    "        for i, line in enumerate(text):\n",
    "            if 'recipe-maintainers' in line:\n",
    "                break\n",
    "\n",
    "        # grab the text from the maintainers section\n",
    "        maintainers = text[i+1: ]\n",
    "\n",
    "        # clean up the maintainers text\n",
    "        maintainers_clean = []\n",
    "        for m in maintainers:\n",
    "            line = m.strip()\n",
    "            if line != '' and not line.startswith('#'):\n",
    "                maintainers_clean.append(line.replace('-', '').replace(' ', ''))\n",
    "\n",
    "        # store the maintainers in meta dict\n",
    "        meta[pkg]['maintainers'] = maintainers_clean\n",
    "        simplelist.append([meta[pkg]['response'].split('\\n')[0],maintainers_clean])"
   ]
  },
  {
   "cell_type": "code",
   "execution_count": null,
   "metadata": {},
   "outputs": [],
   "source": [
    "#print(simplelist)\n",
    "import pandas as pd\n",
    "df = pd.DataFrame(simplelist)\n",
    "print(df)\n",
    "\n",
    "df.to_csv('maintainers_331.csv')"
   ]
  }
 ],
 "metadata": {
  "kernelspec": {
   "display_name": "Python 3",
   "language": "python",
   "name": "python3"
  },
  "language_info": {
   "codemirror_mode": {
    "name": "ipython",
    "version": 3
   },
   "file_extension": ".py",
   "mimetype": "text/x-python",
   "name": "python",
   "nbconvert_exporter": "python",
   "pygments_lexer": "ipython3",
   "version": "3.8.1"
  }
 },
 "nbformat": 4,
 "nbformat_minor": 4
}
